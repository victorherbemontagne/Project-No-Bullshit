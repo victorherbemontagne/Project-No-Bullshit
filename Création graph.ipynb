{
 "cells": [
  {
   "cell_type": "code",
   "execution_count": null,
   "metadata": {},
   "outputs": [],
   "source": [
    "import re\n",
    "from py2neo import Graph,Relationship\n",
    "import os\n",
    "import numpy as np  \n",
    "import pandas as pd\n",
    "import py2neo as pn\n",
    "from tqdm import tqdm\n",
    "from nltk.corpus import stopwords\n",
    "import nltk\n",
    "\n",
    "graph = Graph(password=\"password2018.\")\n",
    "        \n",
    "\n",
    "for k,text in tqdm(enumerate(texts)):\n",
    "    pure_text = [word.lower() for word in nltk.word_tokenize(text) if word.lower() not in stopwords.words('english') and word.lower() not in [\",\",\".\",\"(\",\")\"] and word != '']\n",
    "    query=\"\"\"\n",
    "        WITH {comment} AS text\n",
    "        UNWIND range(0,size(text)-2) AS i\n",
    "        MERGE (w1:Word {name: text[i]})\n",
    "        ON CREATE SET w1.count = 1 ON MATCH SET w1.count = w1.count + 1\n",
    "        MERGE (w2:Word {name: text[i+1]})\n",
    "        ON CREATE SET w2.count = 1 ON MATCH SET w2.count = w2.count + 1\n",
    "        MERGE (w1)-[r:NEXT]->(w2)\n",
    "        ON CREATE SET r.count = 1\n",
    "        ON MATCH SET r.count = r.count + 1\n",
    "        \"\"\"\n",
    "    res = graph.run(query,parameters={\"comment\":pure_text})"
   ]
  },
  {
   "cell_type": "code",
   "execution_count": null,
   "metadata": {},
   "outputs": [],
   "source": []
  }
 ],
 "metadata": {
  "kernelspec": {
   "display_name": "Python 3",
   "language": "python",
   "name": "python3"
  },
  "language_info": {
   "codemirror_mode": {
    "name": "ipython",
    "version": 3
   },
   "file_extension": ".py",
   "mimetype": "text/x-python",
   "name": "python",
   "nbconvert_exporter": "python",
   "pygments_lexer": "ipython3",
   "version": "3.6.8"
  }
 },
 "nbformat": 4,
 "nbformat_minor": 2
}
