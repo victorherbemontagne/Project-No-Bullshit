{
 "cells": [
  {
   "cell_type": "code",
   "execution_count": 4,
   "metadata": {},
   "outputs": [],
   "source": [
    "import pandas as pd\n",
    "import numpy as np\n",
    "import os\n",
    "from tqdm import tqdm"
   ]
  },
  {
   "cell_type": "code",
   "execution_count": 2,
   "metadata": {},
   "outputs": [],
   "source": [
    "from newspaper import Article"
   ]
  },
  {
   "cell_type": "code",
   "execution_count": 6,
   "metadata": {},
   "outputs": [],
   "source": [
    "data = pd.read_csv('data.csv')"
   ]
  },
  {
   "cell_type": "code",
   "execution_count": null,
   "metadata": {},
   "outputs": [],
   "source": []
  },
  {
   "cell_type": "code",
   "execution_count": null,
   "metadata": {},
   "outputs": [],
   "source": []
  },
  {
   "cell_type": "code",
   "execution_count": 5,
   "metadata": {},
   "outputs": [],
   "source": [
    "data['isna'] = data['Text'].isna()"
   ]
  },
  {
   "cell_type": "code",
   "execution_count": 6,
   "metadata": {},
   "outputs": [
    {
     "data": {
      "text/plain": [
       "'«\\xa0Et si tout s’effondrait ?\\xa0» Le magazine Socialter met les pieds dans le plat'"
      ]
     },
     "execution_count": 6,
     "metadata": {},
     "output_type": "execute_result"
    }
   ],
   "source": [
    "data[data['isna'] == False].loc[2627]['Name']"
   ]
  },
  {
   "cell_type": "code",
   "execution_count": 31,
   "metadata": {},
   "outputs": [],
   "source": [
    "import json\n",
    "path_config = \"D:\\config.json\"\n",
    "\n",
    "with open(path_config,encoding='utf8') as file:\n",
    "    alor = file.read()\n",
    "    config = json.loads(alor)\n",
    "    "
   ]
  },
  {
   "cell_type": "code",
   "execution_count": 32,
   "metadata": {},
   "outputs": [
    {
     "data": {
      "text/plain": [
       "{'api_key': '32525bb715de40b8995e9f0c67ee8063',\n",
       " 'base_url': 'http://api.climatetagger.net/service/extract'}"
      ]
     },
     "execution_count": 32,
     "metadata": {},
     "output_type": "execute_result"
    }
   ],
   "source": [
    "config"
   ]
  },
  {
   "cell_type": "code",
   "execution_count": 62,
   "metadata": {},
   "outputs": [],
   "source": [
    "import requests\n",
    "\n",
    "url = config['base_url'] + '/?text={}&locale=fr&format=rdfxml&token={}&countconcept=4'.format(\"\"\"\"Bonjour je m'appelle victor et \n",
    "                                                                                j'habite en France à Paris et il y a des éoliennes \n",
    "                                                                                et le climat et edf et l'ONU\"\"\"\n",
    "                                                                               ,config['api_key'])\n",
    "rep = requests.get(url)"
   ]
  },
  {
   "cell_type": "code",
   "execution_count": 63,
   "metadata": {},
   "outputs": [
    {
     "data": {
      "text/plain": [
       "{'concepts': [],\n",
       " 'locations': [],\n",
       " 'terms': [{'label': \"bonjour je m'appelle victor\", 'score': 100.0},\n",
       "  {'label': \"m'appelle victor et j'habite\", 'score': 87.0},\n",
       "  {'label': \"j'habite en france ã\", 'score': 70.0},\n",
       "  {'label': \"bonjour je m'appelle\", 'score': 50.0},\n",
       "  {'label': 'bonjour', 'score': 50.0},\n",
       "  {'label': \"m'appelle victor\", 'score': 44.0},\n",
       "  {'label': \"m'appelle\", 'score': 44.0},\n",
       "  {'label': \"victor et j'habite\", 'score': 41.0},\n",
       "  {'label': 'victor', 'score': 41.0},\n",
       "  {'label': \"j'habite en france\", 'score': 35.0}]}"
      ]
     },
     "execution_count": 63,
     "metadata": {},
     "output_type": "execute_result"
    }
   ],
   "source": [
    "rep.json()"
   ]
  }
 ],
 "metadata": {
  "kernelspec": {
   "display_name": "Python 3",
   "language": "python",
   "name": "python3"
  },
  "language_info": {
   "codemirror_mode": {
    "name": "ipython",
    "version": 3
   },
   "file_extension": ".py",
   "mimetype": "text/x-python",
   "name": "python",
   "nbconvert_exporter": "python",
   "pygments_lexer": "ipython3",
   "version": "3.6.8"
  }
 },
 "nbformat": 4,
 "nbformat_minor": 2
}
