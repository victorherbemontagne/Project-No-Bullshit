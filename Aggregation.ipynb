{
 "cells": [
  {
   "cell_type": "code",
   "execution_count": 4,
   "metadata": {},
   "outputs": [],
   "source": [
    "import pandas as pd\n",
    "import numpy as np\n",
    "import os\n",
    "from tqdm import tqdm"
   ]
  },
  {
   "cell_type": "code",
   "execution_count": 2,
   "metadata": {},
   "outputs": [],
   "source": [
    "from newspaper import Article"
   ]
  },
  {
   "cell_type": "code",
   "execution_count": 6,
   "metadata": {},
   "outputs": [],
   "source": [
    "data = pd.read_csv('data.csv')"
   ]
  },
  {
   "cell_type": "code",
   "execution_count": null,
   "metadata": {},
   "outputs": [],
   "source": []
  },
  {
   "cell_type": "code",
   "execution_count": 88,
   "metadata": {},
   "outputs": [
    {
     "data": {
      "text/plain": [
       "Index(['Unnamed: 0', 'Source', 'Name', 'Feed', 'Text', 'Url', 'Date',\n",
       "       'VectTopics', 'EcoDist', 'Keywords', 'Label', 'Author', 'Kw1', 'Kw2',\n",
       "       'Kw3', 'Kw4', 'Kw5', 'Kw6', 'Subject', 'WordCount', 'QuotesCount',\n",
       "       'Engagement'],\n",
       "      dtype='object')"
      ]
     },
     "execution_count": 88,
     "metadata": {},
     "output_type": "execute_result"
    }
   ],
   "source": [
    "data.columns"
   ]
  },
  {
   "cell_type": "code",
   "execution_count": 5,
   "metadata": {},
   "outputs": [],
   "source": [
    "data['isna'] = data['Text'].isna()"
   ]
  },
  {
   "cell_type": "code",
   "execution_count": 6,
   "metadata": {},
   "outputs": [
    {
     "data": {
      "text/plain": [
       "'«\\xa0Et si tout s’effondrait ?\\xa0» Le magazine Socialter met les pieds dans le plat'"
      ]
     },
     "execution_count": 6,
     "metadata": {},
     "output_type": "execute_result"
    }
   ],
   "source": [
    "data[data['isna'] == False].loc[2627]['Name']"
   ]
  },
  {
   "cell_type": "code",
   "execution_count": 31,
   "metadata": {},
   "outputs": [],
   "source": [
    "import json\n",
    "path_config = \"D:\\config.json\"\n",
    "\n",
    "with open(path_config,encoding='utf8') as file:\n",
    "    alor = file.read()\n",
    "    config = json.loads(alor)\n",
    "    "
   ]
  },
  {
   "cell_type": "code",
   "execution_count": 105,
   "metadata": {},
   "outputs": [
    {
     "data": {
      "text/plain": [
       "(2631, 22)"
      ]
     },
     "execution_count": 105,
     "metadata": {},
     "output_type": "execute_result"
    }
   ],
   "source": [
    "data.shape"
   ]
  },
  {
   "cell_type": "code",
   "execution_count": null,
   "metadata": {},
   "outputs": [],
   "source": [
    "\"\"\"\"Bonjour je m'appelle victor et \n",
    "                                                                                j'habite en France à Paris et il y a des éoliennes \n",
    "                                                                                et le climat et edf et l'ONU\"\"\"\n"
   ]
  },
  {
   "cell_type": "code",
   "execution_count": 104,
   "metadata": {
    "scrolled": true
   },
   "outputs": [
    {
     "data": {
      "text/plain": [
       "'edf veut rendre la vie des français plus simple en lançant izi by edf, sa nouvelle plateforme permettant d’accéder à des services du quotidien en quelques clics. des petits travaux à la demande aux projets plus importants d’équipement ou de rénovation, en passant par des services d’accompagnement comme la télésurveillance, izi by edf s’adresse aux particuliers à leur domicile ou aux professionnels – artisans, commerçants, professions libérales – dans leur local professionnel.\\r\\nainsi, pour ses travaux, le client bénéficie de l’engagement izi by edf pour un prix juste, un délai respecté et une prestation de qualité, donc pour un maximum de sérénité dans son quotidien.\\r\\navec izi by edf, le client n’est pas seul pour ses travaux. il bénéficie d’un accompagnement gratuit à chaque étape de son projet grâce à des conseillers spécialisés izi by edf, tous basés en france, qui s’assurent de sa satisfaction avec un engagement fort : « bien fait ou refait ».\\r\\ntout commence sur izi-by-edf.fr, avec un parcours intuitif qui permet au client d’exprimer facilement son besoin et de trouver rapidement la prestation de travaux souhaitée. le devis – immédiat et gratuit – se fait en ligne et les travaux commencent à la date et à l’heure choisies par le client.\\r\\nplus de 300 prestations sont accessibles dès aujourd’hui dans 9 agglomérations en france : bordeaux, lille, lyon, marseille, nantes, nice, paris, rennes et toulouse. une dizaine d’autres agglomérations seront couvertes d’ici fin 2019 et d’autres services viendront enrichir le catalogue d’izi by edf et de ses partenaires, tout au long de l’année.\\r\\navec izi by edf, c’est simple :\\r\\nun mur à peindre, des prises à changer ? izi by edf propose des petits travaux du quotidien.\\r\\nune salle de bain à refaire, des murs à isoler ? izi by edf propose des travaux de rénovation.\\r\\nune télésurveillance, une chaudière à entretenir ? les partenaires d’izi by edf proposent des contrats de services.\\r\\nune nouvelle chaudière, un panneau solaire, une borne pour véhicule électrique ? bientôt, les partenaires d’izi by edf proposeront l’installation d’équipements.\\r\\n\\r\\ndéjà 1 000 professionnels locaux et indépendants ont été choisis rigoureusement pour faire partie du réseau izi by edf et réaliser des prestations de travaux, dans le respect des standards izi by edf. grâce à ses partenaires, la plateforme offre également un large éventail de services comme par exemple des prestations de télésurveillance, en partenariat avec la société eps. izi by edf propose aussi les services vendus par plusieurs filiales du groupe edf, références dans leur domaine :\\r\\ncham pour l’installation et l’entretien de chaudière,\\r\\nedf enr pour les panneaux solaires et l’autoconsommation,\\r\\nizivia pour l’installation de bornes de recharge pour véhicules électriques,\\r\\nsowee pour le pilotage connecté des usages dans la maison.\\r\\nbienvenue à izi solutions\\r\\nedf a fait l’acquisition en septembre 2018 de la start-up hellocasa, une référence sur le marché des plateformes de petits travaux en ligne, qui devient izi solutions. créée en 2014, hellocasa a réalisé en 4 ans plus de 30 000 prestations dans 4 villes en france, et acquis une réputation de qualité et d’efficacité conforme aux ambitions d’edf pour le lancement de sa nouvelle activité de services. en complément du savoir-faire d’edf en matière de qualité de service, cette acquisition permet de capitaliser sur l’expérience et sur les compétences digitales de la start-up dont l’équipe intègre aujourd’hui le dispositif izi by edf.\\r\\njean-bernard lévy, président directeur général d’edf a déclaré :\\r\\n\"le lancement d’izi by edf marque une étape importante dans la dynamique commerciale du groupe. edf inspire confiance aux français et, fiers de cet attachement, nous partons aujourd’hui à la conquête de nouveaux marchés. la qualité de service, la proximité et l’innovation sont des valeurs au coeur de la relation entre edf et ses clients. izi by edf sera le partenaire sérénité des français à leur domicile ou dans leur local professionnel.\"\\r\\n\\r\\n'"
      ]
     },
     "execution_count": 104,
     "metadata": {},
     "output_type": "execute_result"
    }
   ],
   "source": [
    "text"
   ]
  },
  {
   "cell_type": "code",
   "execution_count": 102,
   "metadata": {
    "scrolled": true
   },
   "outputs": [],
   "source": [
    "import requests\n",
    "\n",
    "text = data['Text'][1]\n",
    "\n",
    "url = config['base_url'] + '/?text={}&locale=fr&format=json&token={}&countConcepts=25'.format(text\n",
    "                                                                               ,config['api_key'])\n",
    "rep = requests.get(url)"
   ]
  },
  {
   "cell_type": "code",
   "execution_count": 103,
   "metadata": {},
   "outputs": [
    {
     "data": {
      "text/plain": [
       "{'concepts': [{'uri': 'http://reegle.info/glossary/38',\n",
       "   'prefLabel': 'panneaux solaires',\n",
       "   'altLabel': None,\n",
       "   'hiddenLabel': None,\n",
       "   'related': None,\n",
       "   'topConcept': None,\n",
       "   'inScheme': None,\n",
       "   'broaderTransitive': None,\n",
       "   'score': 100.0}],\n",
       " 'locations': [],\n",
       " 'terms': [{'label': 'edf', 'score': 100.0},\n",
       "  {'label': 'Ã', 'score': 83.0},\n",
       "  {'label': 'by', 'score': 81.0},\n",
       "  {'label': 'by edf', 'score': 81.0},\n",
       "  {'label': 'izi', 'score': 71.0},\n",
       "  {'label': 'izi by edf', 'score': 67.0},\n",
       "  {'label': 'izi by', 'score': 67.0},\n",
       "  {'label': 'travaux', 'score': 52.0},\n",
       "  {'label': 'client', 'score': 29.0}]}"
      ]
     },
     "execution_count": 103,
     "metadata": {},
     "output_type": "execute_result"
    }
   ],
   "source": [
    "rep.json()"
   ]
  }
 ],
 "metadata": {
  "kernelspec": {
   "display_name": "Python 3",
   "language": "python",
   "name": "python3"
  },
  "language_info": {
   "codemirror_mode": {
    "name": "ipython",
    "version": 3
   },
   "file_extension": ".py",
   "mimetype": "text/x-python",
   "name": "python",
   "nbconvert_exporter": "python",
   "pygments_lexer": "ipython3",
   "version": "3.6.8"
  }
 },
 "nbformat": 4,
 "nbformat_minor": 2
}
