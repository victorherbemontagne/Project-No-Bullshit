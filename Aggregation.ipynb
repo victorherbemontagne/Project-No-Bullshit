{
 "cells": [
  {
   "cell_type": "code",
   "execution_count": 1,
   "metadata": {},
   "outputs": [],
   "source": [
    "import pandas as pd\n",
    "import numpy as np\n",
    "import os\n",
    "from tqdm import tqdm"
   ]
  },
  {
   "cell_type": "code",
   "execution_count": 2,
   "metadata": {},
   "outputs": [],
   "source": [
    "from newspaper import Article"
   ]
  },
  {
   "cell_type": "code",
   "execution_count": 3,
   "metadata": {},
   "outputs": [],
   "source": [
    "data = pd.read_csv('almost_clean/data.csv')"
   ]
  },
  {
   "cell_type": "code",
   "execution_count": 4,
   "metadata": {},
   "outputs": [
    {
     "data": {
      "text/plain": [
       "Index(['Unnamed: 0', 'Source', 'Name', 'Feed', 'Text', 'Url', 'Date',\n",
       "       'VectTopics', 'EcoDist', 'Keywords', 'Label', 'Author', 'Kw1', 'Kw2',\n",
       "       'Kw3', 'Kw4', 'Kw5', 'Kw6', 'Subject', 'WordCount', 'QuotesCount',\n",
       "       'Engagement'],\n",
       "      dtype='object')"
      ]
     },
     "execution_count": 4,
     "metadata": {},
     "output_type": "execute_result"
    }
   ],
   "source": [
    "data.columns"
   ]
  },
  {
   "cell_type": "code",
   "execution_count": 5,
   "metadata": {},
   "outputs": [],
   "source": [
    "data['isna'] = data['Text'].isna()"
   ]
  },
  {
   "cell_type": "code",
   "execution_count": 6,
   "metadata": {},
   "outputs": [
    {
     "data": {
      "text/plain": [
       "'«\\xa0Et si tout s’effondrait ?\\xa0» Le magazine Socialter met les pieds dans le plat'"
      ]
     },
     "execution_count": 6,
     "metadata": {},
     "output_type": "execute_result"
    }
   ],
   "source": [
    "data[data['isna'] == False].loc[2627]['Name']"
   ]
  },
  {
   "cell_type": "code",
   "execution_count": 11,
   "metadata": {
    "scrolled": true
   },
   "outputs": [
    {
     "data": {
      "text/plain": [
       "0      NaN\n",
       "1      NaN\n",
       "2      NaN\n",
       "3      NaN\n",
       "4      NaN\n",
       "5      NaN\n",
       "6      NaN\n",
       "7      NaN\n",
       "8      NaN\n",
       "9      NaN\n",
       "10     NaN\n",
       "11     NaN\n",
       "12     NaN\n",
       "13     NaN\n",
       "14     NaN\n",
       "15     NaN\n",
       "16     NaN\n",
       "17     NaN\n",
       "18     NaN\n",
       "19     NaN\n",
       "20     NaN\n",
       "21     NaN\n",
       "22     NaN\n",
       "23     NaN\n",
       "24     NaN\n",
       "25     NaN\n",
       "26     NaN\n",
       "27     NaN\n",
       "28     NaN\n",
       "29     NaN\n",
       "        ..\n",
       "2601   NaN\n",
       "2602   NaN\n",
       "2603   NaN\n",
       "2604   NaN\n",
       "2605   NaN\n",
       "2606   NaN\n",
       "2607   NaN\n",
       "2608   NaN\n",
       "2609   NaN\n",
       "2610   NaN\n",
       "2611   NaN\n",
       "2612   NaN\n",
       "2613   NaN\n",
       "2614   NaN\n",
       "2615   NaN\n",
       "2616   NaN\n",
       "2617   NaN\n",
       "2618   NaN\n",
       "2619   NaN\n",
       "2620   NaN\n",
       "2621   NaN\n",
       "2622   NaN\n",
       "2623   NaN\n",
       "2624   NaN\n",
       "2625   NaN\n",
       "2626   NaN\n",
       "2627   NaN\n",
       "2628   NaN\n",
       "2629   NaN\n",
       "2630   NaN\n",
       "Name: Keywords, Length: 2631, dtype: float64"
      ]
     },
     "execution_count": 11,
     "metadata": {},
     "output_type": "execute_result"
    }
   ],
   "source": [
    "data['Keywords']"
   ]
  }
 ],
 "metadata": {
  "kernelspec": {
   "display_name": "Python 3",
   "language": "python",
   "name": "python3"
  },
  "language_info": {
   "codemirror_mode": {
    "name": "ipython",
    "version": 3
   },
   "file_extension": ".py",
   "mimetype": "text/x-python",
   "name": "python",
   "nbconvert_exporter": "python",
   "pygments_lexer": "ipython3",
   "version": "3.6.8"
  }
 },
 "nbformat": 4,
 "nbformat_minor": 2
}
